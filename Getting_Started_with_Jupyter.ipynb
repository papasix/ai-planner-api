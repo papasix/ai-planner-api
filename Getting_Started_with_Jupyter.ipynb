{
 "cells": [
  {
   "cell_type": "markdown",
   "id": "99bc86a1",
   "metadata": {},
   "source": [
    "# 🧠 Getting Started with Jupyter Notebook\n",
    "\n",
    "This notebook shows how to run code, write notes, and experiment with AI or data using Python."
   ]
  },
  {
   "cell_type": "code",
   "execution_count": null,
   "id": "3466df12",
   "metadata": {},
   "outputs": [],
   "source": [
    "x = 5 * 10\n",
    "x"
   ]
  },
  {
   "cell_type": "markdown",
   "id": "f5eab280",
   "metadata": {},
   "source": [
    "This cell multiplies 5 by 10 and outputs the result."
   ]
  },
  {
   "cell_type": "code",
   "execution_count": null,
   "id": "bf5bd815",
   "metadata": {},
   "outputs": [],
   "source": [
    "import pandas as pd\n",
    "\n",
    "data = {'Name': ['Alice', 'Bob'], 'Age': [25, 30]}\n",
    "df = pd.DataFrame(data)\n",
    "df"
   ]
  },
  {
   "cell_type": "markdown",
   "id": "3bba238a",
   "metadata": {},
   "source": [
    "We created a small table using pandas."
   ]
  },
  {
   "cell_type": "code",
   "execution_count": null,
   "id": "c0f6a646",
   "metadata": {},
   "outputs": [],
   "source": [
    "import openai\n",
    "\n",
    "openai.api_key = \"your-api-key\"\n",
    "\n",
    "response = openai.ChatCompletion.create(\n",
    "    model=\"gpt-3.5-turbo\",\n",
    "    messages=[{\"role\": \"user\", \"content\": \"Tell me a joke about cats\"}]\n",
    ")\n",
    "\n",
    "print(response['choices'][0]['message']['content'])"
   ]
  },
  {
   "cell_type": "markdown",
   "id": "9a82701c",
   "metadata": {},
   "source": [
    "This cell uses the OpenAI API to get a response from ChatGPT."
   ]
  }
 ],
 "metadata": {},
 "nbformat": 4,
 "nbformat_minor": 5
}
